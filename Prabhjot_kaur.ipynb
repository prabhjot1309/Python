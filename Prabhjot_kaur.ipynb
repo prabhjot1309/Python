{
  "cells": [
    {
      "cell_type": "markdown",
      "metadata": {
        "id": "view-in-github",
        "colab_type": "text"
      },
      "source": [
        "<a href=\"https://colab.research.google.com/github/prabhjot1309/Python/blob/main/Prabhjot_kaur.ipynb\" target=\"_parent\"><img src=\"https://colab.research.google.com/assets/colab-badge.svg\" alt=\"Open In Colab\"/></a>"
      ]
    },
    {
      "cell_type": "code",
      "source": [
        "from google.colab import drive\n",
        "drive.mount('/content/drive')"
      ],
      "metadata": {
        "id": "8JZ_VRnS55G7"
      },
      "execution_count": null,
      "outputs": []
    },
    {
      "cell_type": "code",
      "execution_count": null,
      "metadata": {
        "colab": {
          "base_uri": "https://localhost:8080/"
        },
        "id": "mmD0DkXC5kOF",
        "outputId": "4b1cfa78-5a49-4ccc-a0ab-dcdc45a8925b"
      },
      "outputs": [
        {
          "name": "stdout",
          "output_type": "stream",
          "text": [
            "hello world\n"
          ]
        }
      ],
      "source": [
        "print(\"hello world\")"
      ]
    },
    {
      "cell_type": "markdown",
      "metadata": {
        "id": "lZG61L91zxPW"
      },
      "source": [
        "*Assignment no. 1*"
      ]
    },
    {
      "cell_type": "code",
      "execution_count": null,
      "metadata": {
        "colab": {
          "base_uri": "https://localhost:8080/"
        },
        "id": "Fagymx7Lz_VM",
        "outputId": "e74564ae-6620-4cc1-c039-54cd154d39e6"
      },
      "outputs": [
        {
          "name": "stdout",
          "output_type": "stream",
          "text": [
            "Prabh 20 Btech\n"
          ]
        }
      ],
      "source": [
        "#Create variables to store your name (string), age (integer), and course (string). Print all of them\n",
        "#using a single print() statement.\n",
        "Name, Age, Course=\"Prabh\",20,\"Btech\"\n",
        "\n",
        "print(Name,Age,Course)"
      ]
    },
    {
      "cell_type": "code",
      "execution_count": null,
      "metadata": {
        "colab": {
          "base_uri": "https://localhost:8080/"
        },
        "id": "yVD4o0y30nPj",
        "outputId": "3d75d62e-d851-45f4-c8c0-7653a6150f5e"
      },
      "outputs": [
        {
          "name": "stdout",
          "output_type": "stream",
          "text": [
            "9\n"
          ]
        }
      ],
      "source": [
        "#Write a program to swap two numbers without using a third variable. Example: a = 4, b = 9.\n",
        "x=4\n",
        "y=9\n",
        "x,y=y,x\n",
        "print(x)"
      ]
    },
    {
      "cell_type": "code",
      "execution_count": null,
      "metadata": {
        "colab": {
          "base_uri": "https://localhost:8080/"
        },
        "id": "dgzq8fdg0yrs",
        "outputId": "88d534c2-d1af-4c22-9605-c6b050258a9d"
      },
      "outputs": [
        {
          "name": "stdout",
          "output_type": "stream",
          "text": [
            "35\n",
            "5\n",
            "1.3333333333333333\n",
            "5\n",
            "300\n"
          ]
        }
      ],
      "source": [
        "#Arithmetic operations\n",
        "x=20\n",
        "y=15\n",
        "\n",
        "print(x+y) #sum\n",
        "print(x-y )#difference\n",
        "print(x/y) #divide\n",
        "print(x%y) #remainder\n",
        "print(x*y) #product"
      ]
    },
    {
      "cell_type": "code",
      "execution_count": null,
      "metadata": {
        "colab": {
          "base_uri": "https://localhost:8080/"
        },
        "id": "R1oJyrE208oP",
        "outputId": "1e37f029-e220-4536-dcc9-4051911d1d4e"
      },
      "outputs": [
        {
          "name": "stdout",
          "output_type": "stream",
          "text": [
            "429\n",
            "85.8\n"
          ]
        }
      ],
      "source": [
        "#Take marks of 5 subjects and calculate the total and percentage\n",
        "a=80 #subject1\n",
        "b=97 #subject2\n",
        "c=78 #subject3\n",
        "d=89 #subject4\n",
        "e=85 #subject5\n",
        "\n",
        "total= a+b+c+d+e\n",
        "print (total)\n",
        "percentage= total/500*100\n",
        "print(percentage)\n"
      ]
    },
    {
      "cell_type": "code",
      "execution_count": null,
      "metadata": {
        "colab": {
          "base_uri": "https://localhost:8080/"
        },
        "id": "aoqBhUsm1RWw",
        "outputId": "318715ff-1d6d-40ce-b927-ad550b19f2c2"
      },
      "outputs": [
        {
          "name": "stdout",
          "output_type": "stream",
          "text": [
            "10\n",
            "15\n",
            "30\n",
            "26\n",
            "13.0\n"
          ]
        }
      ],
      "source": [
        "#Use compound assignment operators\n",
        "x = 10\n",
        "print(x)\n",
        "\n",
        "x += 5\n",
        "print(x)\n",
        "\n",
        "x *= 2\n",
        "print(x)\n",
        "\n",
        "x -= 4\n",
        "print(x)\n",
        "\n",
        "x /= 2\n",
        "print(x)\n"
      ]
    },
    {
      "cell_type": "code",
      "execution_count": null,
      "metadata": {
        "colab": {
          "base_uri": "https://localhost:8080/"
        },
        "id": "5BBitiUs1wmb",
        "outputId": "1c8622c3-dc40-43d3-965b-f3039f9ad34d"
      },
      "outputs": [
        {
          "name": "stdout",
          "output_type": "stream",
          "text": [
            "First is greater\n"
          ]
        }
      ],
      "source": [
        "#Relational operator check\n",
        "a = 10 # first number\n",
        "b = 7 #second number\n",
        "\n",
        "if a == b:\n",
        "    print(\"Both are equal\")\n",
        "elif a > b:\n",
        "    print(\"First is greater\")\n",
        "else:\n",
        "    print(\"Second is greater\")\n"
      ]
    },
    {
      "cell_type": "code",
      "execution_count": null,
      "metadata": {
        "colab": {
          "base_uri": "https://localhost:8080/"
        },
        "id": "w6zDXsx718b3",
        "outputId": "a3f988af-5e90-42d8-f80c-19a0930e7e85"
      },
      "outputs": [
        {
          "name": "stdout",
          "output_type": "stream",
          "text": [
            "False\n",
            "True\n",
            "You cannot go outside.\n"
          ]
        }
      ],
      "source": [
        "# Logical operator challenge\n",
        "is_raining = True\n",
        "have_umbrella = False\n",
        "\n",
        "print(is_raining & have_umbrella)\n",
        "\n",
        "print(is_raining | have_umbrella)\n",
        "\n",
        "if not is_raining or (is_raining and have_umbrella): #not is_raining= false\n",
        "    print(\"You can go outside.\")                     # is_raining and have_umbrella= false then it gives output false\n",
        "else:                                                #false or false gives false\n",
        "    print(\"You cannot go outside.\")"
      ]
    },
    {
      "cell_type": "code",
      "execution_count": null,
      "metadata": {
        "colab": {
          "base_uri": "https://localhost:8080/"
        },
        "id": "CEwVxWZ-2Ggj",
        "outputId": "413df469-8eb4-4b33-ac27-d26aebc7731d"
      },
      "outputs": [
        {
          "name": "stdout",
          "output_type": "stream",
          "text": [
            "False\n",
            "False\n"
          ]
        }
      ],
      "source": [
        "#Identity operator\n",
        "list1 = [1, 2, 3]\n",
        "list2 = [3, 2, 1]\n",
        "\n",
        "print(list1 == list2)\n",
        "print(list1 is list2)"
      ]
    },
    {
      "cell_type": "code",
      "execution_count": null,
      "metadata": {
        "colab": {
          "base_uri": "https://localhost:8080/"
        },
        "id": "KgIKIbRq2Pxj",
        "outputId": "ffe991ce-9729-48b8-dbbd-f8fb4e4035e1"
      },
      "outputs": [
        {
          "name": "stdout",
          "output_type": "stream",
          "text": [
            "17\n",
            "23\n",
            "6\n"
          ]
        }
      ],
      "source": [
        "#Bitwise operation\n",
        "a=17\n",
        "b=23\n",
        "\n",
        "print(a & b) #AND\n",
        "print(a|b)  #OR\n",
        "print(a^b)   #XOR"
      ]
    },
    {
      "cell_type": "code",
      "execution_count": null,
      "metadata": {
        "colab": {
          "base_uri": "https://localhost:8080/"
        },
        "id": "cnbloum52l4e",
        "outputId": "cea6710d-4ae9-4de6-ad75-f3de6bf493a8"
      },
      "outputs": [
        {
          "name": "stdout",
          "output_type": "stream",
          "text": [
            "Type of int_num: <class 'int'>\n",
            "Type of float_num: <class 'float'>\n",
            "Sum as integer: 9.5\n"
          ]
        }
      ],
      "source": [
        "# Variable types and typecasting\n",
        "a = 5\n",
        "b =4.5\n",
        "\n",
        "print(\"Type of int_num:\", type(a))\n",
        "print(\"Type of float_num:\", type(b))\n",
        "\n",
        "sum  = a+b\n",
        "print(\"Sum as integer:\",(sum))\n"
      ]
    },
    {
      "cell_type": "markdown",
      "metadata": {
        "id": "0lZmdOUV2xam"
      },
      "source": [
        "*Assignment no. 2*"
      ]
    },
    {
      "cell_type": "code",
      "execution_count": null,
      "metadata": {
        "colab": {
          "base_uri": "https://localhost:8080/"
        },
        "id": "AC6DfBnG24v0",
        "outputId": "3dbb7571-e03a-4ce6-f65f-ef44a986a1d6"
      },
      "outputs": [
        {
          "name": "stdout",
          "output_type": "stream",
          "text": [
            "1\n",
            "2\n",
            "3\n",
            "4\n",
            "5\n",
            "6\n",
            "7\n",
            "8\n"
          ]
        }
      ],
      "source": [
        "#to print number 1 to 10 but stop the loop when number reaches 9\n",
        "for i in range(1,14):\n",
        "    if i==9:\n",
        "        break\n",
        "    print(i)"
      ]
    },
    {
      "cell_type": "code",
      "execution_count": null,
      "metadata": {
        "colab": {
          "base_uri": "https://localhost:8080/"
        },
        "id": "r8_DjY9_5fer",
        "outputId": "a75a5d97-4710-4e62-cf68-03a6fdc0f4d0"
      },
      "outputs": [
        {
          "name": "stdout",
          "output_type": "stream",
          "text": [
            "enter the number:6\n",
            "you entered:6\n"
          ]
        }
      ],
      "source": [
        "#to print +ve numbers and show -ve no. when user inputs -ve no\n",
        "number=int(input(\"enter the number:\"))\n",
        "if number>= 0:\n",
        "    print(f\"you entered:{number}\")\n",
        "else :\n",
        "    print(\"entered no. is negative\")"
      ]
    },
    {
      "cell_type": "code",
      "execution_count": null,
      "metadata": {
        "colab": {
          "base_uri": "https://localhost:8080/"
        },
        "id": "plHTqTqG5m1R",
        "outputId": "97760646-c476-4a3f-ff24-b2d947f499fa"
      },
      "outputs": [
        {
          "name": "stdout",
          "output_type": "stream",
          "text": [
            "First Even number found: 2\n"
          ]
        }
      ],
      "source": [
        "#to find first even no. in list using loop and break\n",
        "list = [2, 3, 6, 5, 7, 8, 12, 34, 57, 89, 75, 67, 45]\n",
        "for l in list:\n",
        "    if l % 2 == 0:\n",
        "        print(\"First Even number found:\", l)\n",
        "        break\n"
      ]
    },
    {
      "cell_type": "code",
      "execution_count": null,
      "metadata": {
        "colab": {
          "base_uri": "https://localhost:8080/"
        },
        "id": "ukv9-MDt5qNo",
        "outputId": "930ae6d0-6b73-4dc2-a5b1-d0d295168254"
      },
      "outputs": [
        {
          "name": "stdout",
          "output_type": "stream",
          "text": [
            "Total sum: 34\n",
            "Last number added: 10\n"
          ]
        }
      ],
      "source": [
        "#keep adding number onwards until total sum exceeds 35 print last sum nd digit\n",
        "A = [7,5,4,6,2,10,1,9,15,18]\n",
        "total = 0\n",
        "\n",
        "for a in A:\n",
        "    total = total + a\n",
        "    if total > 25:\n",
        "        print(\"Total sum:\", total)\n",
        "        print(\"Last number added:\", a)\n",
        "        break\n",
        "\n"
      ]
    },
    {
      "cell_type": "code",
      "execution_count": null,
      "metadata": {
        "colab": {
          "background_save": true,
          "base_uri": "https://localhost:8080/"
        },
        "id": "CZ9Mm6iW8qYn",
        "outputId": "a69e0cbf-d215-4121-d5e0-6de66fafaa4a"
      },
      "outputs": [
        {
          "name": "stdout",
          "output_type": "stream",
          "text": [
            "password is correct.\n",
            "wrong password\n"
          ]
        }
      ],
      "source": [
        "#keep asking the user to guess the paassword until they guess\n",
        "#admin123 use while nd break\n",
        "right_password=\"admin123\"\n",
        "while True:\n",
        "    guessed_password= input(\"Enter the password\")\n",
        "    if guessed_password == right_password:\n",
        "        print(\"password is correct.\")\n",
        "        break\n",
        "    else:\n",
        "        print(\"wrong password\")\n",
        "\n",
        "\n",
        "\n",
        "\n",
        "#2nd method\n",
        "while True:\n",
        "    guessed_password= input(\"Enter the password:\")\n",
        "    if guessed_password == \"admin123\":\n",
        "        print(\"password is correct:\")\n",
        "        break\n",
        "    else:\n",
        "        print(\"wrong password\")"
      ]
    },
    {
      "cell_type": "code",
      "source": [
        "#give a no. print each digit until a zero is found\n",
        "number=input(\"enter the number:\")\n",
        "for digit in number:\n",
        "    if digit==\"0\":\n",
        "        break\n",
        "    print(digit)"
      ],
      "metadata": {
        "id": "2eX8Nub6FnC3"
      },
      "execution_count": null,
      "outputs": []
    },
    {
      "cell_type": "code",
      "source": [
        "#to print multiples of 7\n",
        "for i in range(1, 11):\n",
        "    print(f\"7 x {i} = {7 * i}\")\n"
      ],
      "metadata": {
        "id": "NIYWpUEqFuGx"
      },
      "execution_count": null,
      "outputs": []
    },
    {
      "cell_type": "markdown",
      "metadata": {
        "id": "Iwh8wmX_-JsY"
      },
      "source": [
        "*Assignment no. 3*"
      ]
    },
    {
      "cell_type": "code",
      "execution_count": null,
      "metadata": {
        "id": "nn-Sp77C-S4L",
        "colab": {
          "base_uri": "https://localhost:8080/"
        },
        "outputId": "ed64bbba-ec05-43ee-a923-d44db4df319d"
      },
      "outputs": [
        {
          "output_type": "stream",
          "name": "stdout",
          "text": [
            "Enter a sentence: i love pyhton\n",
            "Reversed sentence: pyhton love i\n"
          ]
        }
      ],
      "source": [
        "#Take a sentence and reverse the order of its words. Example: \"I love Python\" → \"Python love I\"\n",
        "x= input(\"Enter a sentence: \")\n",
        "list1= x.split()\n",
        "list2 =list1[::-1]\n",
        "x = ' '.join(list2)\n",
        "\n",
        "print(\"Reversed sentence:\",x)\n"
      ]
    },
    {
      "cell_type": "code",
      "source": [
        "# 2. Given a string of consonants (non-vowels, ignoring case). Example \"Hello World\" → 7(H,l,l,W,r,l,d).\n",
        "\n",
        "x=input(\"Enter a string: \")\n",
        "vowels='aeiouAEIOU'\n",
        "consonants=[ i for i in x if i.isalpha() and i not in vowels ]\n",
        "count=len(consonants)\n",
        "print(f\"{count}({','.join(consonants)})\")"
      ],
      "metadata": {
        "id": "OJ5r2pffaQpU",
        "colab": {
          "base_uri": "https://localhost:8080/"
        },
        "outputId": "4217b983-aa7c-4732-b266-5c6814c204f8"
      },
      "execution_count": null,
      "outputs": [
        {
          "output_type": "stream",
          "name": "stdout",
          "text": [
            "Enter a string: hey, myself prabh\n",
            "11(h,y,m,y,s,l,f,p,r,b,h)\n"
          ]
        }
      ]
    },
    {
      "cell_type": "code",
      "source": [
        "# 3. Check if two strings are anagrams (same characters, same frequency, ignoring case). Example: \"Listen\", \"Silent\" → \"Anagram\", \"Hello\" \"world\" → \"Not Anagram\".\n",
        "\n",
        "x=input(\"Enter first string: \")\n",
        "y=input(\"Enter second string: \")\n",
        "\n",
        "s1=x.replace(\" \",\"\").upper()\n",
        "s2=y.replace(\" \",\"\").upper()\n",
        "\n",
        "if sorted(s1) == sorted(s2):\n",
        "  print(\"Anagram\")\n",
        "else:\n",
        "  print(\"Not Anagram\")\n"
      ],
      "metadata": {
        "id": "eQlfRB0SaqTW",
        "colab": {
          "base_uri": "https://localhost:8080/"
        },
        "outputId": "7da6abad-2680-46a0-c857-237ba8ba8526"
      },
      "execution_count": null,
      "outputs": [
        {
          "output_type": "stream",
          "name": "stdout",
          "text": [
            "Enter second string: listen\n",
            "Anagram\n"
          ]
        }
      ]
    },
    {
      "cell_type": "code",
      "source": [
        "# 4. Find the first character in a string that appears only once (case-sensitive). Example: \"Swiss\" → \"w\" \"Programming → \"r\".\n",
        "\n",
        "x=input(\"Enter a string: \")\n",
        "\n",
        "s1=x.replace(\" \",\"\").upper()\n",
        "\n",
        "for i in s1:\n",
        "  if s1.count(i)==1:\n",
        "    print(i)\n",
        "    break\n",
        "else:\n",
        "    print(\"None\")\n"
      ],
      "metadata": {
        "id": "au-xcZcha_Pu",
        "colab": {
          "base_uri": "https://localhost:8080/"
        },
        "outputId": "4ed7808c-dd03-442f-9d2d-05c0b5c72790"
      },
      "execution_count": null,
      "outputs": [
        {
          "output_type": "stream",
          "name": "stdout",
          "text": [
            "Enter a string: swiss\n",
            "W\n"
          ]
        }
      ]
    },
    {
      "cell_type": "code",
      "source": [
        "# 5. Compress a string by replacing repeated characters with the character and count. Example: \"aaabbcc\" → \"a3b2c2\", If compressed string isn't shorter return orignal.\n",
        "\n",
        "x = input(\"Enter a string: \")\n",
        "\n",
        "if not x:\n",
        "    print(\"\")\n",
        "else:\n",
        "    compress = \"\"\n",
        "    count = 1\n",
        "    for i in range(1, len(x)):\n",
        "        if x[i] == x[i - 1]:\n",
        "            count += 1\n",
        "        else:\n",
        "            compress += x[i - 1] + str(count)\n",
        "            count = 1\n",
        "\n",
        "    compress += x[-1] + str(count)\n",
        "\n",
        "    if len(compress) < len(x):\n",
        "        print(\"compressed string:\", compress)\n",
        "    else:\n",
        "        print(\"no need to compress:\", x)\n"
      ],
      "metadata": {
        "id": "EGHEhSoAbUSk",
        "colab": {
          "base_uri": "https://localhost:8080/"
        },
        "outputId": "fc1c2c87-ee27-4eb2-f92b-d79bc86044b3"
      },
      "execution_count": null,
      "outputs": [
        {
          "output_type": "stream",
          "name": "stdout",
          "text": [
            "Enter a string: aaabbbbbcccc\n",
            "compressed string: a3b5c4\n"
          ]
        }
      ]
    },
    {
      "cell_type": "code",
      "source": [
        "# 6. Find the longest substring in a string thai is a palindrome (case-sensitive). Example: \"babad\" → \"bab\" (or\"aba\"), \"cbbd\" → \"bb\".\n",
        "\n",
        "s=input(\"Enter a string: \")\n",
        "x=s.replace(\" \",\"\").upper()\n",
        "n=len(x)\n",
        "\n",
        "longest=\"\"\n",
        "\n",
        "for i in range(n):\n",
        "  for j in range(1,n):\n",
        "    substr=x[i:j+1]\n",
        "    if substr == substr[::-1]:\n",
        "      if len(substr) > len(longest):\n",
        "        longest = substr\n",
        "print(\"Longest palindrome: \",longest)"
      ],
      "metadata": {
        "id": "99Oo_bc1biuK",
        "colab": {
          "base_uri": "https://localhost:8080/"
        },
        "outputId": "ba9e121f-8a21-40d8-c4d8-27de64a49ace"
      },
      "execution_count": null,
      "outputs": [
        {
          "output_type": "stream",
          "name": "stdout",
          "text": [
            "Enter a string: babad\n",
            "Longest palindrome:  BAB\n"
          ]
        }
      ]
    },
    {
      "cell_type": "code",
      "source": [
        "# 7. Gven a string containing only '(',').','{','}','[',']', check if the sequence is valid (properly nested and closed). Example: \"[{()}]\" → \"Valid\", \"(]\" → \"Invalid\".\n",
        "\n",
        "x=input(\"Enter a string: \")\n",
        "s=[]\n",
        "dict={')':'(', ']':'[','}':'{' }\n",
        "valid=True\n",
        "\n",
        "for i in x:\n",
        "  if i in '([{':\n",
        "    s.append(i)\n",
        "  elif i in ')]}':\n",
        "    if not s or s[-1] != dict[i]:\n",
        "      valid= False\n",
        "      break\n",
        "    s.pop()\n",
        "\n",
        "if s:\n",
        "  valid =False\n",
        "\n",
        "print(\"Valid\" if valid else \"Invalid\")"
      ],
      "metadata": {
        "id": "55U3o3TYbspO",
        "colab": {
          "base_uri": "https://localhost:8080/"
        },
        "outputId": "2c61a20c-021e-45a1-a2b9-8d178dee689e"
      },
      "execution_count": null,
      "outputs": [
        {
          "output_type": "stream",
          "name": "stdout",
          "text": [
            "Enter a string: {[[[}})}\n",
            "Invalid\n"
          ]
        }
      ]
    },
    {
      "cell_type": "code",
      "source": [
        "# 8. Given a start word, end word, and a list of valid words, find the mininmum number of steps to transform the word to the end word\n",
        "#by changing one letter at a time, where each intermediate word must be in the list. All words are same length, lowercase.\n",
        "# Example: start\"hot\", end=\"cog\", wordlist=[\"hot\",\"dot\",\"dog\",log\",\"lot\",\"cog\"] → 5(hit → hot → dot → dog → cog), Return 0 if impossible.\n",
        "\n",
        "from collections import deque\n",
        "start = \"hit\"\n",
        "end = \"cog\"\n",
        "wordList = [\"hot\", \"dot\", \"dog\", \"lot\", \"log\", \"cog\"]\n",
        "wordSet = set(wordList)\n",
        "queue= deque([(start, 1)])\n",
        "while queue:\n",
        "  word, steps = queue.popleft()\n",
        "  if word == end:\n",
        "       print(steps)\n",
        "       break\n",
        "  for i in range(len(word)):\n",
        "       for c in 'abcdefghijklmnopqrstuvwxyz':\n",
        "           next_word = word[:i] + c + word[i+1:]\n",
        "           if next_word in wordSet:\n",
        "               wordSet.remove(next_word)\n",
        "               queue.append((next_word, steps + 1))\n",
        "else:\n",
        "   print(0)"
      ],
      "metadata": {
        "id": "utBERZzgb_4b",
        "colab": {
          "base_uri": "https://localhost:8080/"
        },
        "outputId": "f5ccf6ab-259b-4f8d-cc64-ff4eb158669f"
      },
      "execution_count": null,
      "outputs": [
        {
          "output_type": "stream",
          "name": "stdout",
          "text": [
            "5\n"
          ]
        }
      ]
    },
    {
      "cell_type": "markdown",
      "source": [
        "*Assignment No. 4*"
      ],
      "metadata": {
        "id": "19jd1_lzqlJ_"
      }
    },
    {
      "cell_type": "code",
      "source": [
        "#1 Create a dictionary of 5 students with their names as keys and marks as values. Print all the keys and values.\n",
        "my_dict= {\"Rohan\":78,\"Harman\":75,\"Aish\": 67,\"Prabh\":84,\"Pia\":79}\n",
        "print(my_dict)"
      ],
      "metadata": {
        "id": "BZMAWCcfqstL",
        "colab": {
          "base_uri": "https://localhost:8080/"
        },
        "outputId": "bdb925c1-c400-47e6-f833-40a14f6361ef"
      },
      "execution_count": null,
      "outputs": [
        {
          "output_type": "stream",
          "name": "stdout",
          "text": [
            "{'Rohan': 78, 'Harman': 75, 'Aish': 67, 'Prabh': 84, 'Pia': 79}\n"
          ]
        }
      ]
    },
    {
      "cell_type": "code",
      "source": [
        "#4 Merge two dictionaries and print the merged dictionary.\n",
        "dict1= {'a':1,'b':6,'c':10,'d':4}\n",
        "dict2=  {'e':11,'f':16,'g':5,'h':9}\n",
        "dict3= dict1|dict2\n",
        "print(dict3)"
      ],
      "metadata": {
        "id": "ifZgVdv5uuPk",
        "colab": {
          "base_uri": "https://localhost:8080/"
        },
        "outputId": "78468082-5081-4731-e946-106ca6fbe230"
      },
      "execution_count": null,
      "outputs": [
        {
          "output_type": "stream",
          "name": "stdout",
          "text": [
            "{'a': 1, 'b': 6, 'c': 10, 'd': 4, 'e': 11, 'f': 16, 'g': 5, 'h': 9}\n"
          ]
        }
      ]
    },
    {
      "cell_type": "code",
      "source": [
        "#5 Create a dictionary where the keys are numbers between 1 and 10, and the values are their squares\n",
        "sq={num:num**2 for num in range(1,11)}\n",
        "print(sq)"
      ],
      "metadata": {
        "id": "HPEkPjXhu55S",
        "colab": {
          "base_uri": "https://localhost:8080/"
        },
        "outputId": "c95dbc6d-30dc-4d9c-e26e-5d9205625fe9"
      },
      "execution_count": null,
      "outputs": [
        {
          "output_type": "stream",
          "name": "stdout",
          "text": [
            "{1: 1, 2: 4, 3: 9, 4: 16, 5: 25, 6: 36, 7: 49, 8: 64, 9: 81, 10: 100}\n"
          ]
        }
      ]
    },
    {
      "cell_type": "code",
      "source": [
        "#6 Write a program that inverts a dictionary (i.e., swaps keys and values). Assume all values are unique.\n",
        "dict={'a':1,'b':6,'c':10,'d':4,'e':9}\n",
        "inverted_dict={value: keys for keys, value in dict.items() }\n",
        "print(inverted_dict)"
      ],
      "metadata": {
        "id": "oRe-G1XCu_Sk",
        "colab": {
          "base_uri": "https://localhost:8080/"
        },
        "outputId": "fd16859f-6700-4df8-9268-0d16a8fa4028"
      },
      "execution_count": null,
      "outputs": [
        {
          "output_type": "stream",
          "name": "stdout",
          "text": [
            "{1: 'a', 6: 'b', 10: 'c', 4: 'd', 9: 'e'}\n"
          ]
        }
      ]
    },
    {
      "cell_type": "code",
      "source": [
        "string= \"hello world\"\n",
        "freq={}\n",
        "\n",
        "for char in string:\n",
        "    if char!= \" \":\n",
        "        freq[char]= freq.get(char,0)+1\n",
        "print(freq)"
      ],
      "metadata": {
        "id": "dZvejUDaFx6k",
        "colab": {
          "base_uri": "https://localhost:8080/"
        },
        "outputId": "46735fc4-4586-4093-8a11-529adc2851ca"
      },
      "execution_count": null,
      "outputs": [
        {
          "output_type": "stream",
          "name": "stdout",
          "text": [
            "{'h': 1, 'e': 1, 'l': 3, 'o': 2, 'w': 1, 'r': 1, 'd': 1}\n"
          ]
        }
      ]
    },
    {
      "cell_type": "code",
      "source": [
        "#7. Given a nested dictionary of students and their subject-wise marks, calculate and print the average marks for each student.\n",
        "students={ \"student1\":{'phy':78, 'chem':65,'maths':89,'english': 85},\n",
        "         \"student2\":{'phy':79, 'chem':67,'maths':76,'english': 66},\n",
        "         \"student3\":{'phy':74, 'chem':55,'maths':84,'english': 98},\n",
        "         \"student4\":{'phy':81, 'chem':45,'maths':88,'english': 75},\n",
        "         \"student5\":{'phy':38, 'chem':35,'maths':69,'english': 95},\n",
        "}\n",
        "\n",
        "for name, subject in students.items():\n",
        "    avg= sum(subject.values())/len(subject)\n",
        "    print(name ,\" average is\",avg)\n",
        "\n"
      ],
      "metadata": {
        "id": "0TLpEcUMF21c",
        "colab": {
          "base_uri": "https://localhost:8080/"
        },
        "outputId": "b7f67481-f366-4c88-a219-bbe7dd323dac"
      },
      "execution_count": null,
      "outputs": [
        {
          "output_type": "stream",
          "name": "stdout",
          "text": [
            "student1  average is 79.25\n",
            "student2  average is 72.0\n",
            "student3  average is 77.75\n",
            "student4  average is 72.25\n",
            "student5  average is 59.25\n"
          ]
        }
      ]
    },
    {
      "cell_type": "code",
      "source": [
        "#8. Write a program to group words by their length from a list using a dictionary.\n",
        "list=['red', 'blue','black','pink','green']\n",
        "group={}\n",
        "for word in list:\n",
        "    l=len(word)\n",
        "    group.setdefault(l,[]).append(word)\n",
        "\n",
        "\n",
        "print(group)\n",
        "\n"
      ],
      "metadata": {
        "id": "dFUT0gkzGAAd",
        "colab": {
          "base_uri": "https://localhost:8080/"
        },
        "outputId": "9702ab1b-dbce-48ba-f606-ee24ea7c0e0e"
      },
      "execution_count": null,
      "outputs": [
        {
          "output_type": "stream",
          "name": "stdout",
          "text": [
            "{3: ['red'], 4: ['blue', 'pink'], 5: ['black', 'green']}\n"
          ]
        }
      ]
    },
    {
      "cell_type": "code",
      "source": [
        "#10. Create a program that takes a list of tuples (name, score) and builds a dictionary\n",
        "#where each name is a key, and the value is a list of all their scores. Then calculate and print\n",
        "#each person's average score.\n",
        "list= [('Aditi',78),('Pia',88),('Komal',55),('Prabh',90),('Aditi',74),('Pia',98),('Komal',59),('Prabh',80)]\n",
        "score_dict={}\n",
        "for name,score in list:\n",
        "    if name in  score_dict:\n",
        "        score_dict[name].append(score)\n",
        "    else:\n",
        "        score_dict[name]=[score]\n",
        "print(score_dict)\n",
        "for name, score in score_dict.items():\n",
        "    avg= sum(score)/len(score)\n",
        "    print(name,\"average is\",avg)\n",
        "\n",
        "\n"
      ],
      "metadata": {
        "id": "-hZ-7uThGBLQ",
        "colab": {
          "base_uri": "https://localhost:8080/"
        },
        "outputId": "68adeddd-6099-4144-ce8f-be844dd2b708"
      },
      "execution_count": null,
      "outputs": [
        {
          "output_type": "stream",
          "name": "stdout",
          "text": [
            "{'Aditi': [78, 74], 'Pia': [88, 98], 'Komal': [55, 59], 'Prabh': [90, 80]}\n",
            "Aditi average is 76.0\n",
            "Pia average is 93.0\n",
            "Komal average is 57.0\n",
            "Prabh average is 85.0\n"
          ]
        }
      ]
    },
    {
      "cell_type": "markdown",
      "source": [
        "*Assignment No. 5*\n"
      ],
      "metadata": {
        "id": "RucyEU9JoOAC"
      }
    },
    {
      "cell_type": "code",
      "source": [
        "#WAP to make a pyramid.\n",
        "def pyramid(n, current=1):\n",
        "    if current > n:\n",
        "        return\n",
        "    spaces = ' ' * (n - current)\n",
        "    stars = '*' * (2 * current - 1)\n",
        "    print(spaces + stars)\n",
        "    pyramid(n, current + 1)\n",
        "\n",
        "n=int(input(\"Enter no. of lines: \"))\n",
        "pyramid(n)"
      ],
      "metadata": {
        "colab": {
          "base_uri": "https://localhost:8080/"
        },
        "id": "uNgWFVJfoUaL",
        "outputId": "73fbe047-f052-49e8-f40d-ab1a288a4869"
      },
      "execution_count": null,
      "outputs": [
        {
          "output_type": "stream",
          "name": "stdout",
          "text": [
            "Enter no. of lines: 5\n",
            "    *\n",
            "   ***\n",
            "  *****\n",
            " *******\n",
            "*********\n"
          ]
        }
      ]
    },
    {
      "cell_type": "code",
      "source": [
        "#Generate a pattern like:\n",
        "'''\n",
        "*\n",
        "* *\n",
        "* * *\n",
        "* * * *\n",
        "'''\n",
        "def pattern(n, current=1):\n",
        "    if(current>n):\n",
        "     return\n",
        "    print(\"*\"* current)\n",
        "    pattern(n, current+1)\n",
        "n= int(input(\"Enter No.:\"))\n",
        "print(pattern(n))"
      ],
      "metadata": {
        "colab": {
          "base_uri": "https://localhost:8080/"
        },
        "id": "zAvCb2JMq0ox",
        "outputId": "ddda2377-4b95-4e5a-bfa2-0c84386f7fe8"
      },
      "execution_count": null,
      "outputs": [
        {
          "output_type": "stream",
          "name": "stdout",
          "text": [
            "Enter No.:4\n",
            "*\n",
            "**\n",
            "***\n",
            "****\n",
            "None\n"
          ]
        }
      ]
    },
    {
      "cell_type": "code",
      "source": [
        "#Draw a sqaure pattern like star.\n",
        "def square_pattern(n):\n",
        "    for i in range(n):\n",
        "        print(\"* \" * n)\n",
        "\n",
        "size = int(input(\"Enter the size of the square: \"))\n",
        "square_pattern(size)"
      ],
      "metadata": {
        "colab": {
          "base_uri": "https://localhost:8080/"
        },
        "id": "UlJBcPUFyWlx",
        "outputId": "ccf90d24-612e-44e6-e731-3a34a1577cd2"
      },
      "execution_count": null,
      "outputs": [
        {
          "output_type": "stream",
          "name": "stdout",
          "text": [
            "Enter the size of the square: 6\n",
            "* * * * * * \n",
            "* * * * * * \n",
            "* * * * * * \n",
            "* * * * * * \n",
            "* * * * * * \n",
            "* * * * * * \n"
          ]
        }
      ]
    },
    {
      "cell_type": "code",
      "source": [
        "#Draw a rectangle pattern like star.\n",
        "#area of rectangle = lXb\n",
        "def rectangle_pattern(l,b):\n",
        "    for i in range(b):\n",
        "        print(\"* \" * l)\n",
        "l= int(input(\"Enter the length of rectangle: \"))\n",
        "b= int(input(\"Enter the breadth of rectangle: \"))\n",
        "print(rectangle_pattern(l,b))\n",
        "\n",
        "\n"
      ],
      "metadata": {
        "colab": {
          "base_uri": "https://localhost:8080/"
        },
        "id": "yvOgmk6iybzK",
        "outputId": "789b4a86-a01a-470d-8e9d-0ac23c3ec0e1"
      },
      "execution_count": null,
      "outputs": [
        {
          "output_type": "stream",
          "name": "stdout",
          "text": [
            "Enter the length of rectangle: 5\n",
            "Enter the breadth of rectangle: 2\n",
            "* * * * * \n",
            "* * * * * \n",
            "None\n"
          ]
        }
      ]
    },
    {
      "cell_type": "markdown",
      "source": [
        "*Assignment No. 6*"
      ],
      "metadata": {
        "id": "23noHN5uVECT"
      }
    },
    {
      "cell_type": "code",
      "source": [
        "#1.  Write a Python program to create a tuple with different data types and print its type.\n",
        "tuple=('hello', 2, 3.14, True)\n",
        "print(tuple)\n",
        "print(\"type:\", type(tuple))"
      ],
      "metadata": {
        "id": "v5U8qWqsVK3m",
        "colab": {
          "base_uri": "https://localhost:8080/"
        },
        "outputId": "6756e5f1-86bf-4957-803d-a1c126363e63"
      },
      "execution_count": null,
      "outputs": [
        {
          "output_type": "stream",
          "name": "stdout",
          "text": [
            "('hello', 2, 3.14, True)\n",
            "type: <class 'tuple'>\n"
          ]
        }
      ]
    },
    {
      "cell_type": "code",
      "source": [
        "#2. Given a tuple t = (10, 20, 30, 40, 50), write a program to access the second last element.\n",
        "t = (10, 20, 30, 40, 50)\n",
        "second_last= t[-2]\n",
        "print(\"second last elemnt is:\",second_last)"
      ],
      "metadata": {
        "id": "4DLtkebnVOg-",
        "colab": {
          "base_uri": "https://localhost:8080/"
        },
        "outputId": "743d65d4-f46a-4ac8-bc1b-bb99e7ed56de"
      },
      "execution_count": null,
      "outputs": [
        {
          "output_type": "stream",
          "name": "stdout",
          "text": [
            "second last elemnt is: 40\n"
          ]
        }
      ]
    },
    {
      "cell_type": "code",
      "source": [
        "# 3. Write a program to count the number of times a given element appears in a tuple.\n",
        "tuple=(2,5,7,8,10,3,5,8,7,12,10,3,8,0)\n",
        "t= tuple.count(10)\n",
        "print(t)\n"
      ],
      "metadata": {
        "id": "P2WFhUlaVRi8",
        "colab": {
          "base_uri": "https://localhost:8080/"
        },
        "outputId": "742fb896-e4aa-449f-fe67-900adeb00452"
      },
      "execution_count": null,
      "outputs": [
        {
          "output_type": "stream",
          "name": "stdout",
          "text": [
            "2\n"
          ]
        }
      ]
    },
    {
      "cell_type": "code",
      "source": [
        "#4. Write a program to convert a tuple of strings into a single string. Example: ('Python', 'is', 'fun') --> 'Python is fun'\n",
        "tuple=('Python', 'is', 'fun')\n",
        "single_string= ' '.join(tuple)\n",
        "print (single_string)\n"
      ],
      "metadata": {
        "id": "A3vGFPNzVU-p",
        "colab": {
          "base_uri": "https://localhost:8080/"
        },
        "outputId": "b75a8741-8e93-4d24-c2d5-a659febaabe8"
      },
      "execution_count": null,
      "outputs": [
        {
          "output_type": "stream",
          "name": "stdout",
          "text": [
            "Python is fun\n"
          ]
        }
      ]
    },
    {
      "cell_type": "code",
      "source": [
        "#5. Write a Python program to find the index of an element in a tuple\n",
        "tuple=(2,5,7,8,10,3,12,0)\n",
        "t= tuple.index(10)\n",
        "print(t)"
      ],
      "metadata": {
        "id": "OlpXPzxHVe6O",
        "colab": {
          "base_uri": "https://localhost:8080/"
        },
        "outputId": "95e5c6c2-78f6-4bd4-bce5-64ee7519470b"
      },
      "execution_count": null,
      "outputs": [
        {
          "output_type": "stream",
          "name": "stdout",
          "text": [
            "4\n"
          ]
        }
      ]
    },
    {
      "cell_type": "code",
      "source": [
        "# 6. Write a Python program to create two sets and perform union, intersection, and difference operations.\n",
        "set1={'apple', 'mango','banana','chiku', 'papaya','kiwi','melon'}\n",
        "set2={'muskmelon', 'strawberry','kiwi','melon'}\n",
        "\n",
        "union = set1.union(set2)\n",
        "print(\"union:\", union)\n",
        "intersection = set1.intersection(set2)\n",
        "print(\"intersection:\", intersection)\n",
        "difference = set1.difference(set2)\n",
        "print(\"difference:\", difference)"
      ],
      "metadata": {
        "id": "hLqGB7AyVklF",
        "colab": {
          "base_uri": "https://localhost:8080/"
        },
        "outputId": "fe5ec887-d0fe-44fd-b90d-3c9f3a681f61"
      },
      "execution_count": null,
      "outputs": [
        {
          "output_type": "stream",
          "name": "stdout",
          "text": [
            "union: {'apple', 'chiku', 'muskmelon', 'mango', 'banana', 'kiwi', 'papaya', 'melon', 'strawberry'}\n",
            "intersection: {'melon', 'kiwi'}\n",
            "difference: {'apple', 'chiku', 'mango', 'banana', 'papaya'}\n"
          ]
        }
      ]
    },
    {
      "cell_type": "code",
      "source": [
        "#7. Write a program to check if a given element is present in a set or not\n",
        "set ={'apple', 'mango','banana','chiku', 'papaya','kiwi','melon'}\n",
        "element = input(\"Enter an element to check: \")\n",
        "\n",
        "if element in set:\n",
        "    print(f\"{element} is \\'present\\' in the set.\")\n",
        "else:\n",
        "    print(f\"{element} is \\'NOT present\\' in the set.\")"
      ],
      "metadata": {
        "id": "mrlhLT17VnVJ",
        "colab": {
          "base_uri": "https://localhost:8080/"
        },
        "outputId": "6c5311e1-75bb-4f87-cae1-fad78ae3656b"
      },
      "execution_count": null,
      "outputs": [
        {
          "output_type": "stream",
          "name": "stdout",
          "text": [
            "Enter an element to check: kiwi\n",
            "kiwi is 'present' in the set.\n"
          ]
        }
      ]
    },
    {
      "cell_type": "code",
      "source": [
        "#8. Write a program to remove duplicate elements from a list using a set.\n",
        "\n",
        "list = [10, 20, 10, 30, 40, 20, 60,50,40,20]\n",
        "unique_list = set(list)\n",
        "\n",
        "print(\"Original List:\", list)\n",
        "print(\"List after removing duplicates:\", unique_list)"
      ],
      "metadata": {
        "colab": {
          "base_uri": "https://localhost:8080/"
        },
        "id": "iu_K-eYqgT0O",
        "outputId": "c08939f1-a752-4ec0-8804-8e5b5a8456b3"
      },
      "execution_count": null,
      "outputs": [
        {
          "output_type": "stream",
          "name": "stdout",
          "text": [
            "Original List: [10, 20, 10, 30, 40, 20, 60, 50, 40, 20]\n",
            "List after removing duplicates: {40, 10, 50, 20, 60, 30}\n"
          ]
        }
      ]
    },
    {
      "cell_type": "code",
      "source": [
        "#9. Write a Python program to find the symmetric difference between two sets.\n",
        "set1={'apple', 'mango','banana','chiku', 'papaya','kiwi','melon'}\n",
        "set2={'muskmelon', 'strawberry','kiwi','melon'}\n",
        "symmetric_diff = set1.symmetric_difference(set2)\n",
        "print(symmetric_diff)"
      ],
      "metadata": {
        "id": "CR5g8owVWXlD",
        "colab": {
          "base_uri": "https://localhost:8080/"
        },
        "outputId": "2c30bd34-2db3-42e8-c730-b83b32abae59"
      },
      "execution_count": null,
      "outputs": [
        {
          "output_type": "stream",
          "name": "stdout",
          "text": [
            "{'muskmelon', 'apple', 'chiku', 'mango', 'banana', 'papaya', 'strawberry'}\n"
          ]
        }
      ]
    },
    {
      "cell_type": "code",
      "source": [
        "#10. Given a list of numbers, write a Python program to find all unique elements using sets.\n",
        "list=[2,1,5,4,6,3,2,4,8,6,9,2]\n",
        "unique_elements=set(list)\n",
        "print(\"Original List:\", list)\n",
        "print(\"Unique Elements:\", unique_elements)"
      ],
      "metadata": {
        "id": "redhcWb9G-Cf",
        "outputId": "48e0b5d1-5b90-4d78-b8ea-b0a176a9845a",
        "colab": {
          "base_uri": "https://localhost:8080/"
        }
      },
      "execution_count": null,
      "outputs": [
        {
          "output_type": "stream",
          "name": "stdout",
          "text": [
            "Original List: [2, 1, 5, 4, 6, 3, 2, 4, 8, 6, 9, 2]\n",
            "Unique Elements: {1, 2, 3, 4, 5, 6, 8, 9}\n"
          ]
        }
      ]
    },
    {
      "cell_type": "markdown",
      "source": [
        "*Assignment No. 7*"
      ],
      "metadata": {
        "id": "z4z4CIsjFBbx"
      }
    },
    {
      "cell_type": "code",
      "source": [
        "#1. Write a function to find the factorial of a number using recursion.\n",
        "def fact(n):\n",
        "   if n < 0:\n",
        "       return \"Factorial is not defined for negative numbers\"\n",
        "   elif n == 0 or n == 1:\n",
        "       return 1\n",
        "   else:\n",
        "       result = 1\n",
        "       for i in range(2, n + 1):\n",
        "           result *= i\n",
        "       return result\n",
        "print(fact(9))"
      ],
      "metadata": {
        "id": "flonCsDNFA4A",
        "colab": {
          "base_uri": "https://localhost:8080/"
        },
        "outputId": "31bb237c-0b97-491e-cd0f-128c9a5f5cb3"
      },
      "execution_count": null,
      "outputs": [
        {
          "output_type": "stream",
          "name": "stdout",
          "text": [
            "362880\n"
          ]
        }
      ]
    },
    {
      "cell_type": "code",
      "source": [
        "#2. Write a function that checks whether a number is prime or not.\n",
        "def is_prime(n):\n",
        "   if n <= 1:\n",
        "       return False\n",
        "   for i in range(2, int(n**0.5) + 1):\n",
        "       if n % i == 0:\n",
        "           return False\n",
        "   return True\n",
        "print(is_prime(7))"
      ],
      "metadata": {
        "id": "bJfVOscLgtPC",
        "outputId": "570ad49a-97b6-4510-bac7-10ad536279c2",
        "colab": {
          "base_uri": "https://localhost:8080/"
        }
      },
      "execution_count": null,
      "outputs": [
        {
          "output_type": "stream",
          "name": "stdout",
          "text": [
            "True\n"
          ]
        }
      ]
    },
    {
      "cell_type": "code",
      "source": [
        "#3. Create a function that takes a string as input and returns the number of vowels in it.\n",
        "def count_vowels(s):\n",
        "    vowels = \"aeiouAEIOU\"\n",
        "    count = 0\n",
        "    for char in s:\n",
        "        if char in vowels:\n",
        "            count += 1\n",
        "    return count\n",
        "print(count_vowels(\"Hello! Myself Prabhjot Kaur\"))"
      ],
      "metadata": {
        "colab": {
          "base_uri": "https://localhost:8080/"
        },
        "id": "3HZpjcCIiYCL",
        "outputId": "4a1df37b-f752-47b8-d13c-91dd017bf32e"
      },
      "execution_count": null,
      "outputs": [
        {
          "output_type": "stream",
          "name": "stdout",
          "text": [
            "7\n"
          ]
        }
      ]
    },
    {
      "cell_type": "code",
      "source": [
        "# 4. Write a function that accepts a list of numbers and returns the maximum and minimum values.\n",
        "def find_max_min(numbers):\n",
        "   if not numbers:\n",
        "       return None\n",
        "   max_num = min_num = numbers[0]\n",
        "   for num in numbers:\n",
        "       if num > max_num:\n",
        "           max_num = num\n",
        "       if num < min_num:\n",
        "           min_num = num\n",
        "   return max_num, min_num\n",
        "print(find_max_min([3, 1, 4, 1, 5, 9, 2, 6]))"
      ],
      "metadata": {
        "colab": {
          "base_uri": "https://localhost:8080/"
        },
        "id": "PinrNzvhi7OK",
        "outputId": "a201614e-4d3b-49f6-eca9-e8b97caeab0f"
      },
      "execution_count": null,
      "outputs": [
        {
          "output_type": "stream",
          "name": "stdout",
          "text": [
            "(9, 1)\n"
          ]
        }
      ]
    },
    {
      "cell_type": "code",
      "source": [
        "#5. Write a Python function to calculate the nth Fibonacci number using recursion.\n",
        "def fibonacci(n):\n",
        "   if n <= 0:\n",
        "      return []\n",
        "   elif n == 1:\n",
        "       return [0]\n",
        "   elif n == 2:\n",
        "       return [0, 1]\n",
        "\n",
        "   fib_series = [0, 1]\n",
        "   for i in range(2, n):\n",
        "       next_value = fib_series[i - 1] + fib_series[i - 2]\n",
        "       fib_series.append(next_value)\n",
        "   return fib_series\n",
        "n= int(input(\"Enter no: \"))\n",
        "print(fibonacci(n))"
      ],
      "metadata": {
        "colab": {
          "base_uri": "https://localhost:8080/"
        },
        "id": "l-UGyFcli_mI",
        "outputId": "0e2c5aea-f6a3-40d5-8a62-e5f1e2ff90d1"
      },
      "execution_count": null,
      "outputs": [
        {
          "output_type": "stream",
          "name": "stdout",
          "text": [
            "Enter no: 12\n",
            "[0, 1, 1, 2, 3, 5, 8, 13, 21, 34, 55, 89]\n"
          ]
        }
      ]
    },
    {
      "cell_type": "code",
      "source": [
        "import math\n",
        "def find_gcd(a, b):\n",
        "    return math.gcd(a, b)\n",
        "num1 = int(input(\"Enter first number: \"))\n",
        "num2 = int(input(\"Enter second number: \"))\n",
        "print(\"The GCD is:\", find_gcd(num1, num2))"
      ],
      "metadata": {
        "colab": {
          "base_uri": "https://localhost:8080/"
        },
        "id": "4RqqPoKMjmgD",
        "outputId": "5fa5cc5a-d6f2-4f3c-c5b9-a054474475ef"
      },
      "execution_count": null,
      "outputs": [
        {
          "output_type": "stream",
          "name": "stdout",
          "text": [
            "Enter first number: 67\n",
            "Enter second number: 78\n",
            "The GCD is: 1\n"
          ]
        }
      ]
    },
    {
      "cell_type": "code",
      "source": [
        "#7. Write a function that takes a list and returns a new list with only unique elements.\n",
        "def unique_elements(lst):\n",
        "    unique_set = set(lst)\n",
        "    return list(unique_set)\n",
        "\n",
        "my_list = [1, 2, 2, 3, 4, 4, 5]\n",
        "print(unique_elements(my_list))\n"
      ],
      "metadata": {
        "colab": {
          "base_uri": "https://localhost:8080/"
        },
        "id": "dzw4Iezdlu24",
        "outputId": "114eac90-d6c2-4660-fb24-0629b22889f2"
      },
      "execution_count": null,
      "outputs": [
        {
          "output_type": "stream",
          "name": "stdout",
          "text": [
            "[1, 2, 3, 4, 5]\n"
          ]
        }
      ]
    },
    {
      "cell_type": "code",
      "source": [
        "#9. Write a function that takes a number and returns True if it is a palindrome, otherwise False.\n",
        "def is_palindrome(n):\n",
        "   str_n = str(n)\n",
        "   return str_n == str_n[::-1]\n",
        "n=int(input(\"Enter No.: \"))\n",
        "print(is_palindrome(n))\n"
      ],
      "metadata": {
        "id": "EBfNJaAfm6z1"
      },
      "execution_count": null,
      "outputs": []
    },
    {
      "cell_type": "code",
      "source": [
        "# 10. Create a function that takes a temperature in Celsius and returns it in Fahrenheit\n",
        "#formulaa: c/5=(f-32)/9\n",
        "def f_to_c(f):\n",
        "    return 5*(f-32)/9\n",
        "f=int(input(\"Enter tempreature:\"))\n",
        "c=f_to_c(f)\n",
        "print(f\"{round(c,3)}, degree celsisus\")\n",
        "\n",
        "#method 2\n",
        "def celsius_to_fahrenheit(celsius):\n",
        "   return (celsius * 9/5) + 32\n",
        "celsisus= int(input(\"Enter tempreature:\"))\n",
        "print(celsius_to_fahrenheit(celsisus))\n"
      ],
      "metadata": {
        "colab": {
          "base_uri": "https://localhost:8080/"
        },
        "id": "H-6Co5BanS1m",
        "outputId": "84f3e166-fa56-4cb0-bbba-8581e4673977"
      },
      "execution_count": null,
      "outputs": [
        {
          "output_type": "stream",
          "name": "stdout",
          "text": [
            "Enter tempreature:90\n",
            "32.222, degree celsisus\n",
            "Enter tempreature:56\n",
            "132.8\n"
          ]
        }
      ]
    },
    {
      "cell_type": "markdown",
      "source": [
        "*Assignment No 9*"
      ],
      "metadata": {
        "id": "TDHmbwiMxKI8"
      }
    },
    {
      "cell_type": "code",
      "source": [
        "# 1. Create a NumPy array with values from 1 to 10. Print the shape, dimension, and data type of the array.\n",
        "import numpy as np\n",
        "arr = np.arange(1, 11)\n",
        "\n",
        "print(\"Array:\", arr)\n",
        "print(\"Shape:\", arr.shape)\n",
        "print(\"Dimension:\", arr.ndim)\n",
        "print(\"Data type:\", arr.dtype)"
      ],
      "metadata": {
        "colab": {
          "base_uri": "https://localhost:8080/"
        },
        "id": "au6GQqlP2AuY",
        "outputId": "0a7a09d7-b29a-41b6-b6d2-004c15aef151"
      },
      "execution_count": null,
      "outputs": [
        {
          "output_type": "stream",
          "name": "stdout",
          "text": [
            "Array: [ 1  2  3  4  5  6  7  8  9 10]\n",
            "Shape: (10,)\n",
            "Dimension: 1\n",
            "Data type: int64\n"
          ]
        }
      ]
    },
    {
      "cell_type": "code",
      "source": [
        "#2. Create a 3x3 NumPy array of all zeros and another of all ones. Then create a 3x3 identity matrix.\n",
        "import numpy as np\n",
        "zeros_array = np.zeros((3, 3))\n",
        "print(\"3x3 Zeros Array:\", zeros_array)\n",
        "ones_array = np.ones((3, 3))\n",
        "print(\"\\n3x3 Ones Array:\", ones_array)\n",
        "identity_matrix = np.eye(3)\n",
        "print(\"\\n3x3 Ones identity_matrix:\",identity_matrix)"
      ],
      "metadata": {
        "colab": {
          "base_uri": "https://localhost:8080/"
        },
        "id": "o94xhdDe2JU_",
        "outputId": "a0ec0769-74b8-4008-d169-6fca7f4dfc99"
      },
      "execution_count": null,
      "outputs": [
        {
          "output_type": "stream",
          "name": "stdout",
          "text": [
            "3x3 Zeros Array: [[0. 0. 0.]\n",
            " [0. 0. 0.]\n",
            " [0. 0. 0.]]\n",
            "\n",
            "3x3 Ones Array: [[1. 1. 1.]\n",
            " [1. 1. 1.]\n",
            " [1. 1. 1.]]\n",
            "\n",
            "3x3 Ones identity_matrix: [[1. 0. 0.]\n",
            " [0. 1. 0.]\n",
            " [0. 0. 1.]]\n"
          ]
        }
      ]
    },
    {
      "cell_type": "code",
      "source": [
        "#3. Generate an array of 15 random integers between 10 and 100 using np.random.randint. Reshape it into a 3x5 matrix and print it.\n",
        "import numpy as np\n",
        "arr = np.random.randint(10, 101, size=15)\n",
        "matrix = arr.reshape(3, 5)\n",
        "print(\"3x5 Matrix of random integers between 10 and 100:\")\n",
        "print(matrix)"
      ],
      "metadata": {
        "colab": {
          "base_uri": "https://localhost:8080/"
        },
        "id": "fPhji2q12VtN",
        "outputId": "befac152-a77f-4bc9-c2bd-575d58824781"
      },
      "execution_count": null,
      "outputs": [
        {
          "output_type": "stream",
          "name": "stdout",
          "text": [
            "3x5 Matrix of random integers between 10 and 100:\n",
            "[[98 96 80 88 55]\n",
            " [61 88 60 35 31]\n",
            " [96 87 78 57 82]]\n"
          ]
        }
      ]
    },
    {
      "cell_type": "code",
      "source": [
        "# 4. Create a NumPy array from 1 to 20. Extract every 3rd element starting from index 1 using slicing.\n",
        "import numpy as np\n",
        "arr= np.arange(1,21)\n",
        "print(arr)\n",
        "print(arr[1:20:3])"
      ],
      "metadata": {
        "colab": {
          "base_uri": "https://localhost:8080/"
        },
        "id": "7wb_gnUi2anw",
        "outputId": "f5caa3b3-4d6c-4404-9477-6c987dc126d6"
      },
      "execution_count": null,
      "outputs": [
        {
          "output_type": "stream",
          "name": "stdout",
          "text": [
            "[ 1  2  3  4  5  6  7  8  9 10 11 12 13 14 15 16 17 18 19 20]\n",
            "[ 2  5  8 11 14 17 20]\n"
          ]
        }
      ]
    },
    {
      "cell_type": "code",
      "source": [
        "# 5. Create two arrays: a = np.array([2, 4, 6, 8]) and b = np.array([1, 3, 5, 7]). Perform element-wise\n",
        "#addition, multiplication, and compare which elements in a are greater than in b\n",
        "import numpy as np\n",
        "a = np.array([2, 4, 6, 8])\n",
        "b = np.array([1, 3, 5, 7])\n",
        "print(a+b) #addition\n",
        "print(a*b) #multiplication\n",
        "print(a>b) #comparison"
      ],
      "metadata": {
        "colab": {
          "base_uri": "https://localhost:8080/"
        },
        "id": "iPPlP70C2c5v",
        "outputId": "77376282-d7e6-4f2f-f3f6-ad646c72ce6f"
      },
      "execution_count": null,
      "outputs": [
        {
          "output_type": "stream",
          "name": "stdout",
          "text": [
            "[ 3  7 11 15]\n",
            "[ 2 12 30 56]\n",
            "[ True  True  True  True]\n"
          ]
        }
      ]
    },
    {
      "cell_type": "code",
      "source": [
        "# 6. Create a NumPy array with 20 random values (0 to 1) using np.random.rand(). Find the mean,\n",
        "# median, standard deviation, min, and max.\n",
        "import numpy as np\n",
        "arr= np.random.rand(20)\n",
        "print(arr)\n",
        "\n",
        "print(np.mean(arr))  #mean\n",
        "print(np.median(arr))  #median\n",
        "print(np.std(arr))  #standard deviation\n",
        "print(np.min(arr)) #min\n",
        "print(np.max(arr))  #max"
      ],
      "metadata": {
        "colab": {
          "base_uri": "https://localhost:8080/"
        },
        "id": "einbezpS2gn4",
        "outputId": "85cac4ae-a6d7-4ba1-dc34-7746976aba1b"
      },
      "execution_count": null,
      "outputs": [
        {
          "output_type": "stream",
          "name": "stdout",
          "text": [
            "[0.24106651 0.19215621 0.1956292  0.07360268 0.32706571 0.12172609\n",
            " 0.64586788 0.06558716 0.47219319 0.8878362  0.06401658 0.57465153\n",
            " 0.82406715 0.9283193  0.95092756 0.01352873 0.71036762 0.6163373\n",
            " 0.36671606 0.39533012]\n",
            "0.4333496385583321\n",
            "0.3810230880216405\n",
            "0.3075902549439273\n",
            "0.013528729183513666\n",
            "0.9509275598370923\n"
          ]
        }
      ]
    },
    {
      "cell_type": "code",
      "source": [
        "# 7. Given: arr = np.array([[3, 5], [7, 9]]). Find the sum across rows and columns using axis.\n",
        "import numpy as np\n",
        "arr = np.array([[3, 5], [7, 9]])\n",
        "print(arr)\n",
        "row_sum= arr.sum(axis=1)\n",
        "print(\"sum across rows:\",row_sum)\n",
        "column_sum= arr.sum(axis=0)\n",
        "print(\"sum across column:\",column_sum)"
      ],
      "metadata": {
        "colab": {
          "base_uri": "https://localhost:8080/"
        },
        "id": "D7UkGuxf2k7R",
        "outputId": "a99ae3bf-37e5-4ca0-fbf1-98d6cf9a0e18"
      },
      "execution_count": null,
      "outputs": [
        {
          "output_type": "stream",
          "name": "stdout",
          "text": [
            "[[3 5]\n",
            " [7 9]]\n",
            "sum across rows: [ 8 16]\n",
            "sum across column: [10 14]\n"
          ]
        }
      ]
    },
    {
      "cell_type": "code",
      "source": [
        "# 8. Create a NumPy array of numbers from 10 to 30. Filter and print only the even numbers using boolean indexing.\n",
        "import numpy as np\n",
        "arr = np.arange(10, 31)\n",
        "even = arr[arr % 2 == 0]\n",
        "print(\"Even no.:\", even)"
      ],
      "metadata": {
        "colab": {
          "base_uri": "https://localhost:8080/"
        },
        "id": "Ak7BSEMW2ow0",
        "outputId": "18d190c4-2b17-4c27-8efe-86ac62c01e37"
      },
      "execution_count": null,
      "outputs": [
        {
          "output_type": "stream",
          "name": "stdout",
          "text": [
            "Even no.: [10 12 14 16 18 20 22 24 26 28 30]\n"
          ]
        }
      ]
    },
    {
      "cell_type": "code",
      "source": [
        "# 9. Generate an array of 10 random integers from 1 to 100. Replace all elements greater than 50 with-1.\n",
        "import numpy as np\n",
        "arr= np.random.randint(1,101,size=10)\n",
        "arr[arr>50]=-1\n",
        "print(arr)"
      ],
      "metadata": {
        "colab": {
          "base_uri": "https://localhost:8080/"
        },
        "id": "ZBbjv1Ug2xfk",
        "outputId": "e3e80458-00da-4160-e14d-ceb096b3482d"
      },
      "execution_count": null,
      "outputs": [
        {
          "output_type": "stream",
          "name": "stdout",
          "text": [
            "[-1 -1 14 -1 49 -1 31 15 -1 -1]\n"
          ]
        }
      ]
    },
    {
      "cell_type": "code",
      "source": [
        "#10. Create two arrays: x = np.array([[1, 2], [3, 4]]) and y = np.array([[5, 6], [7, 8]]). Stack them\n",
        "# vertically and horizontally, then flatten the result into a 1D array.\n",
        "import numpy as np\n",
        "x = np.array([[1, 2], [3, 4]])\n",
        "y = np.array([[5, 6], [7, 8]])\n",
        "\n",
        "v_stack = np.vstack((x, y))\n",
        "h_stack = np.hstack((x, y))\n",
        "flattened = h_stack.flatten()\n",
        "print(\"Vertical Stack:\\n\", v_stack)\n",
        "print(\"Horizontal Stack:\\n\", h_stack)\n",
        "print(\"Flattened:\", flattened)"
      ],
      "metadata": {
        "colab": {
          "base_uri": "https://localhost:8080/"
        },
        "id": "FK_Y4oh93C_6",
        "outputId": "85785a5a-88c9-4360-9b33-93e6b54a88d4"
      },
      "execution_count": null,
      "outputs": [
        {
          "output_type": "stream",
          "name": "stdout",
          "text": [
            "Vertical Stack:\n",
            " [[1 2]\n",
            " [3 4]\n",
            " [5 6]\n",
            " [7 8]]\n",
            "Horizontal Stack:\n",
            " [[1 2 5 6]\n",
            " [3 4 7 8]]\n",
            "Flattened: [1 2 5 6 3 4 7 8]\n"
          ]
        }
      ]
    },
    {
      "cell_type": "markdown",
      "source": [
        "Assignment No 10"
      ],
      "metadata": {
        "id": "4yDFmBlz7OsL"
      }
    },
    {
      "cell_type": "code",
      "source": [],
      "metadata": {
        "id": "tsubV4dy7Rvu"
      },
      "execution_count": null,
      "outputs": []
    }
  ],
  "metadata": {
    "colab": {
      "provenance": [],
      "mount_file_id": "1sYxcyJ0BUG145tKCbiDmz_AD3wG-Jluf",
      "authorship_tag": "ABX9TyPSBi4kxXT7K3X9pkALy51X",
      "include_colab_link": true
    },
    "kernelspec": {
      "display_name": "Python 3",
      "name": "python3"
    },
    "language_info": {
      "name": "python"
    }
  },
  "nbformat": 4,
  "nbformat_minor": 0
}